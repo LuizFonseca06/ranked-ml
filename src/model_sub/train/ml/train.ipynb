{
 "cells": [
  {
   "cell_type": "code",
   "execution_count": 12,
   "outputs": [],
   "source": [
    "import pandas as pd\n",
    "import sqlalchemy"
   ],
   "metadata": {
    "collapsed": false,
    "pycharm": {
     "name": "#%%\n"
    }
   }
  },
  {
   "cell_type": "markdown",
   "source": [
    "# Sample"
   ],
   "metadata": {
    "collapsed": false,
    "pycharm": {
     "name": "#%% md\n"
    }
   }
  },
  {
   "cell_type": "code",
   "execution_count": 13,
   "outputs": [],
   "source": [
    "con = sqlalchemy.create_engine('sqlite:///../../../data/gc.db')"
   ],
   "metadata": {
    "collapsed": false,
    "pycharm": {
     "name": "#%%\n"
    }
   }
  },
  {
   "cell_type": "code",
   "execution_count": 14,
   "outputs": [],
   "source": [
    "df = pd.read_sql_table('tb_abt_sub', con)"
   ],
   "metadata": {
    "collapsed": false,
    "pycharm": {
     "name": "#%%\n"
    }
   }
  },
  {
   "cell_type": "code",
   "execution_count": 15,
   "outputs": [
    {
     "data": {
      "text/plain": "'2022-01-26'"
     },
     "execution_count": 15,
     "metadata": {},
     "output_type": "execute_result"
    }
   ],
   "source": [
    "df['dtRef'].max()"
   ],
   "metadata": {
    "collapsed": false,
    "pycharm": {
     "name": "#%%\n"
    }
   }
  },
  {
   "cell_type": "code",
   "execution_count": 16,
   "outputs": [],
   "source": [
    "# Nosso backtest\n",
    "df_oot = df[df['dtRef'].isin(['2022-01-15','2022-01-16'])].copy()"
   ],
   "metadata": {
    "collapsed": false,
    "pycharm": {
     "name": "#%%\n"
    }
   }
  },
  {
   "cell_type": "code",
   "execution_count": 17,
   "outputs": [],
   "source": [
    "df_train = df[~df['dtRef'].isin(['2022-01-15','2022-01-16'])]"
   ],
   "metadata": {
    "collapsed": false,
    "pycharm": {
     "name": "#%%\n"
    }
   }
  },
  {
   "cell_type": "code",
   "execution_count": 18,
   "outputs": [
    {
     "data": {
      "text/plain": "Index(['dtRef', 'idPlayer', 'qtPartidas', 'qtPartidasMenos16', 'qtDias',\n       'qtDiasUltimaLobby', 'mediaPartidasDia', 'avgQtKill', 'avgQtAssist',\n       'avgQtDeath', 'avgKDA', 'KDAgeral', 'avgKARound', 'KARoundGeral',\n       'avgQtHs', 'avgHsRate', 'txHsGeral', 'avgQtBombeDefuse',\n       'avgQtBombePlant', 'avgQtTk', 'avgQtTkAssist', 'avgQt1Kill',\n       'avgQt2Kill', 'avgQt3Kill', 'avgQt4Kill', 'sumQt4Kill', 'avgQt5Kill',\n       'sumQt5Kill', 'avgQtPlusKill', 'avgQtFirstKill', 'avgVlDamage',\n       'avgDamageRound', 'DamageRoundGeral', 'avgQtHits', 'avgQtShots',\n       'avgQtLastAlive', 'avgQtClutchWon', 'avgQtRoundsPlayed', 'avgVlLevel',\n       'avgQtSurvived', 'avgQtTrade', 'avgQtFlashAssist', 'avgQtHitHeadshot',\n       'avgQtHitChest', 'avgQtHitStomach', 'avgQtHitLeftArm',\n       'avgQtHitRightArm', 'avgQtHitLeftLeg', 'avgQtHitRightLeg',\n       'avgFlWinner', 'propMiragePartidas', 'winRateMirage',\n       'propNukePartidas', 'winRateNuke', 'propInfernoPartidas',\n       'winRateInferno', 'propVertigoPartidas', 'winRateVertigo',\n       'propAncientPartidas', 'winRateAncient', 'propDust2Partidas',\n       'winRateDust2', 'propTrainPartidas', 'winRateTrain',\n       'propOverpassPartidas', 'winRateOverpass', 'vlLevelAtual',\n       'qtMedalhaDist', 'qtMedalhaAdquiridas', 'qtPremium', 'qtPlus',\n       'flFacebook', 'flTwitter', 'flTwitch', 'descCountry', 'vlIdade',\n       'vlDiasCadastro', 'flagSub'],\n      dtype='object')"
     },
     "execution_count": 18,
     "metadata": {},
     "output_type": "execute_result"
    }
   ],
   "source": [
    "df_train.columns"
   ],
   "metadata": {
    "collapsed": false,
    "pycharm": {
     "name": "#%%\n"
    }
   }
  },
  {
   "cell_type": "code",
   "execution_count": 19,
   "outputs": [],
   "source": [
    "features = df_train.columns.tolist()[2:-1]\n",
    "target = 'flagSub'"
   ],
   "metadata": {
    "collapsed": false,
    "pycharm": {
     "name": "#%%\n"
    }
   }
  },
  {
   "cell_type": "code",
   "execution_count": 23,
   "outputs": [],
   "source": [
    "from sklearn.model_selection import train_test_split\n",
    "X_train, X_test, y_train, y_test = train_test_split(df_train[features],\n",
    "                                                    df_train[target],\n",
    "                                                    random_state=42,\n",
    "                                                    test_size=0.2)"
   ],
   "metadata": {
    "collapsed": false,
    "pycharm": {
     "name": "#%%\n"
    }
   }
  },
  {
   "cell_type": "markdown",
   "source": [
    "# Explore"
   ],
   "metadata": {
    "collapsed": false,
    "pycharm": {
     "name": "#%% md\n"
    }
   }
  },
  {
   "cell_type": "code",
   "execution_count": 24,
   "outputs": [
    {
     "data": {
      "text/plain": "        qtPartidas  qtPartidasMenos16  qtDias  qtDiasUltimaLobby  \\\n67883            1                  0       1          29.105405   \n53132           23                  0      13           0.022558   \n24990            1                  0       1          27.335856   \n66593            1                  0       1          18.871308   \n89667            3                  0       1           1.690000   \n...            ...                ...     ...                ...   \n76820           23                  0      10           7.146354   \n112786         144                  1      29           0.104560   \n106212           2                  0       2          22.161806   \n860             35                  1       9           2.010729   \n15795           10                  0       6           1.038750   \n\n        mediaPartidasDia  avgQtKill  avgQtAssist  avgQtDeath    avgKDA  \\\n67883           1.000000  16.000000     4.000000   14.000000  1.428571   \n53132           1.769231  20.000000     3.913043   17.869565  1.467398   \n24990           1.000000   4.000000     5.000000   18.000000  0.500000   \n66593           1.000000  17.000000     4.000000   20.000000  1.050000   \n89667           3.000000  25.333333     4.666667   17.333333  1.783023   \n...                  ...        ...          ...         ...       ...   \n76820           2.300000  18.347826     3.565217   17.347826  1.325505   \n112786          4.965517  20.861111     3.479167   20.152778  1.254195   \n106212          1.000000  22.500000     7.000000   21.000000  1.350962   \n860             3.888889  17.914286     3.714286   20.885714  1.086716   \n15795           1.666667  17.800000     4.100000   16.700000  1.345349   \n\n        KDAgeral  ...  qtMedalhaDist  qtMedalhaAdquiridas  qtPremium  qtPlus  \\\n67883   1.428571  ...              0                    0          0       0   \n53132   1.338200  ...              1                    0          0       1   \n24990   0.500000  ...              1                    0          1       0   \n66593   1.050000  ...              0                    0          0       0   \n89667   1.730769  ...              0                    0          0       0   \n...          ...  ...            ...                  ...        ...     ...   \n76820   1.263158  ...              0                    0          0       0   \n112786  1.207788  ...              0                    0          0       0   \n106212  1.404762  ...              0                    0          0       0   \n860     1.035568  ...              0                    0          0       0   \n15795   1.311377  ...              1                    0          0       1   \n\n        flFacebook  flTwitter  flTwitch  descCountry    vlIdade  \\\n67883            0          0         0           br        NaN   \n53132            0          0         0           br        NaN   \n24990            0          0         0           br  20.027379   \n66593            0          1         0           br  18.496920   \n89667            0          0         0           ar  28.323066   \n...            ...        ...       ...          ...        ...   \n76820            0          0         0           br  23.463381   \n112786           0          0         0           ar  20.199863   \n106212           0          0         0           br        NaN   \n860              0          0         0           br  35.214237   \n15795            0          0         0           br        NaN   \n\n        vlDiasCadastro  \n67883        41.214769  \n53132      1424.004907  \n24990       888.300139  \n66593      1720.824653  \n89667       453.501146  \n...                ...  \n76820      1747.965752  \n112786     1509.824919  \n106212      125.609456  \n860          84.329433  \n15795        59.428854  \n\n[93377 rows x 75 columns]",
      "text/html": "<div>\n<style scoped>\n    .dataframe tbody tr th:only-of-type {\n        vertical-align: middle;\n    }\n\n    .dataframe tbody tr th {\n        vertical-align: top;\n    }\n\n    .dataframe thead th {\n        text-align: right;\n    }\n</style>\n<table border=\"1\" class=\"dataframe\">\n  <thead>\n    <tr style=\"text-align: right;\">\n      <th></th>\n      <th>qtPartidas</th>\n      <th>qtPartidasMenos16</th>\n      <th>qtDias</th>\n      <th>qtDiasUltimaLobby</th>\n      <th>mediaPartidasDia</th>\n      <th>avgQtKill</th>\n      <th>avgQtAssist</th>\n      <th>avgQtDeath</th>\n      <th>avgKDA</th>\n      <th>KDAgeral</th>\n      <th>...</th>\n      <th>qtMedalhaDist</th>\n      <th>qtMedalhaAdquiridas</th>\n      <th>qtPremium</th>\n      <th>qtPlus</th>\n      <th>flFacebook</th>\n      <th>flTwitter</th>\n      <th>flTwitch</th>\n      <th>descCountry</th>\n      <th>vlIdade</th>\n      <th>vlDiasCadastro</th>\n    </tr>\n  </thead>\n  <tbody>\n    <tr>\n      <th>67883</th>\n      <td>1</td>\n      <td>0</td>\n      <td>1</td>\n      <td>29.105405</td>\n      <td>1.000000</td>\n      <td>16.000000</td>\n      <td>4.000000</td>\n      <td>14.000000</td>\n      <td>1.428571</td>\n      <td>1.428571</td>\n      <td>...</td>\n      <td>0</td>\n      <td>0</td>\n      <td>0</td>\n      <td>0</td>\n      <td>0</td>\n      <td>0</td>\n      <td>0</td>\n      <td>br</td>\n      <td>NaN</td>\n      <td>41.214769</td>\n    </tr>\n    <tr>\n      <th>53132</th>\n      <td>23</td>\n      <td>0</td>\n      <td>13</td>\n      <td>0.022558</td>\n      <td>1.769231</td>\n      <td>20.000000</td>\n      <td>3.913043</td>\n      <td>17.869565</td>\n      <td>1.467398</td>\n      <td>1.338200</td>\n      <td>...</td>\n      <td>1</td>\n      <td>0</td>\n      <td>0</td>\n      <td>1</td>\n      <td>0</td>\n      <td>0</td>\n      <td>0</td>\n      <td>br</td>\n      <td>NaN</td>\n      <td>1424.004907</td>\n    </tr>\n    <tr>\n      <th>24990</th>\n      <td>1</td>\n      <td>0</td>\n      <td>1</td>\n      <td>27.335856</td>\n      <td>1.000000</td>\n      <td>4.000000</td>\n      <td>5.000000</td>\n      <td>18.000000</td>\n      <td>0.500000</td>\n      <td>0.500000</td>\n      <td>...</td>\n      <td>1</td>\n      <td>0</td>\n      <td>1</td>\n      <td>0</td>\n      <td>0</td>\n      <td>0</td>\n      <td>0</td>\n      <td>br</td>\n      <td>20.027379</td>\n      <td>888.300139</td>\n    </tr>\n    <tr>\n      <th>66593</th>\n      <td>1</td>\n      <td>0</td>\n      <td>1</td>\n      <td>18.871308</td>\n      <td>1.000000</td>\n      <td>17.000000</td>\n      <td>4.000000</td>\n      <td>20.000000</td>\n      <td>1.050000</td>\n      <td>1.050000</td>\n      <td>...</td>\n      <td>0</td>\n      <td>0</td>\n      <td>0</td>\n      <td>0</td>\n      <td>0</td>\n      <td>1</td>\n      <td>0</td>\n      <td>br</td>\n      <td>18.496920</td>\n      <td>1720.824653</td>\n    </tr>\n    <tr>\n      <th>89667</th>\n      <td>3</td>\n      <td>0</td>\n      <td>1</td>\n      <td>1.690000</td>\n      <td>3.000000</td>\n      <td>25.333333</td>\n      <td>4.666667</td>\n      <td>17.333333</td>\n      <td>1.783023</td>\n      <td>1.730769</td>\n      <td>...</td>\n      <td>0</td>\n      <td>0</td>\n      <td>0</td>\n      <td>0</td>\n      <td>0</td>\n      <td>0</td>\n      <td>0</td>\n      <td>ar</td>\n      <td>28.323066</td>\n      <td>453.501146</td>\n    </tr>\n    <tr>\n      <th>...</th>\n      <td>...</td>\n      <td>...</td>\n      <td>...</td>\n      <td>...</td>\n      <td>...</td>\n      <td>...</td>\n      <td>...</td>\n      <td>...</td>\n      <td>...</td>\n      <td>...</td>\n      <td>...</td>\n      <td>...</td>\n      <td>...</td>\n      <td>...</td>\n      <td>...</td>\n      <td>...</td>\n      <td>...</td>\n      <td>...</td>\n      <td>...</td>\n      <td>...</td>\n      <td>...</td>\n    </tr>\n    <tr>\n      <th>76820</th>\n      <td>23</td>\n      <td>0</td>\n      <td>10</td>\n      <td>7.146354</td>\n      <td>2.300000</td>\n      <td>18.347826</td>\n      <td>3.565217</td>\n      <td>17.347826</td>\n      <td>1.325505</td>\n      <td>1.263158</td>\n      <td>...</td>\n      <td>0</td>\n      <td>0</td>\n      <td>0</td>\n      <td>0</td>\n      <td>0</td>\n      <td>0</td>\n      <td>0</td>\n      <td>br</td>\n      <td>23.463381</td>\n      <td>1747.965752</td>\n    </tr>\n    <tr>\n      <th>112786</th>\n      <td>144</td>\n      <td>1</td>\n      <td>29</td>\n      <td>0.104560</td>\n      <td>4.965517</td>\n      <td>20.861111</td>\n      <td>3.479167</td>\n      <td>20.152778</td>\n      <td>1.254195</td>\n      <td>1.207788</td>\n      <td>...</td>\n      <td>0</td>\n      <td>0</td>\n      <td>0</td>\n      <td>0</td>\n      <td>0</td>\n      <td>0</td>\n      <td>0</td>\n      <td>ar</td>\n      <td>20.199863</td>\n      <td>1509.824919</td>\n    </tr>\n    <tr>\n      <th>106212</th>\n      <td>2</td>\n      <td>0</td>\n      <td>2</td>\n      <td>22.161806</td>\n      <td>1.000000</td>\n      <td>22.500000</td>\n      <td>7.000000</td>\n      <td>21.000000</td>\n      <td>1.350962</td>\n      <td>1.404762</td>\n      <td>...</td>\n      <td>0</td>\n      <td>0</td>\n      <td>0</td>\n      <td>0</td>\n      <td>0</td>\n      <td>0</td>\n      <td>0</td>\n      <td>br</td>\n      <td>NaN</td>\n      <td>125.609456</td>\n    </tr>\n    <tr>\n      <th>860</th>\n      <td>35</td>\n      <td>1</td>\n      <td>9</td>\n      <td>2.010729</td>\n      <td>3.888889</td>\n      <td>17.914286</td>\n      <td>3.714286</td>\n      <td>20.885714</td>\n      <td>1.086716</td>\n      <td>1.035568</td>\n      <td>...</td>\n      <td>0</td>\n      <td>0</td>\n      <td>0</td>\n      <td>0</td>\n      <td>0</td>\n      <td>0</td>\n      <td>0</td>\n      <td>br</td>\n      <td>35.214237</td>\n      <td>84.329433</td>\n    </tr>\n    <tr>\n      <th>15795</th>\n      <td>10</td>\n      <td>0</td>\n      <td>6</td>\n      <td>1.038750</td>\n      <td>1.666667</td>\n      <td>17.800000</td>\n      <td>4.100000</td>\n      <td>16.700000</td>\n      <td>1.345349</td>\n      <td>1.311377</td>\n      <td>...</td>\n      <td>1</td>\n      <td>0</td>\n      <td>0</td>\n      <td>1</td>\n      <td>0</td>\n      <td>0</td>\n      <td>0</td>\n      <td>br</td>\n      <td>NaN</td>\n      <td>59.428854</td>\n    </tr>\n  </tbody>\n</table>\n<p>93377 rows × 75 columns</p>\n</div>"
     },
     "execution_count": 24,
     "metadata": {},
     "output_type": "execute_result"
    }
   ],
   "source": [
    "X_train"
   ],
   "metadata": {
    "collapsed": false,
    "pycharm": {
     "name": "#%%\n"
    }
   }
  },
  {
   "cell_type": "code",
   "execution_count": 30,
   "outputs": [],
   "source": [
    "cat_features = X_train.select_dtypes(include=['object']).columns.tolist()\n",
    "num_features = X_train.columns.drop(cat_features).tolist()"
   ],
   "metadata": {
    "collapsed": false,
    "pycharm": {
     "name": "#%%\n"
    }
   }
  },
  {
   "cell_type": "code",
   "execution_count": 33,
   "outputs": [
    {
     "data": {
      "text/plain": "avgKDA                 4\nwinRateMirage      15571\nwinRateNuke        47681\nwinRateInferno     19835\nwinRateVertigo     41060\nwinRateAncient     70466\nwinRateDust2       32945\nwinRateTrain       56897\nwinRateOverpass    42855\nvlIdade            19558\ndtype: int64"
     },
     "execution_count": 33,
     "metadata": {},
     "output_type": "execute_result"
    }
   ],
   "source": [
    "isna = X_train[num_features].isnull().sum()\n",
    "isna[isna>0]"
   ],
   "metadata": {
    "collapsed": false,
    "pycharm": {
     "name": "#%%\n"
    }
   }
  },
  {
   "cell_type": "code",
   "execution_count": null,
   "outputs": [],
   "source": [],
   "metadata": {
    "collapsed": false,
    "pycharm": {
     "name": "#%%\n"
    }
   }
  }
 ],
 "metadata": {
  "kernelspec": {
   "display_name": "Python 3",
   "language": "python",
   "name": "python3"
  },
  "language_info": {
   "codemirror_mode": {
    "name": "ipython",
    "version": 2
   },
   "file_extension": ".py",
   "mimetype": "text/x-python",
   "name": "python",
   "nbconvert_exporter": "python",
   "pygments_lexer": "ipython2",
   "version": "2.7.6"
  }
 },
 "nbformat": 4,
 "nbformat_minor": 0
}